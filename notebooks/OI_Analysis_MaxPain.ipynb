{
 "cells": [
  {
   "cell_type": "code",
   "execution_count": 1,
   "id": "5bf2cdcf",
   "metadata": {},
   "outputs": [
    {
     "ename": "SyntaxError",
     "evalue": "invalid character '⚠' (U+26A0) (710382391.py, line 9)",
     "output_type": "error",
     "traceback": [
      "\u001b[0;36m  Cell \u001b[0;32mIn[1], line 9\u001b[0;36m\u001b[0m\n\u001b[0;31m    ⚠️ Note: Requires valid Breeze API credentials in `scripts/breeze_client.py` (local only).\u001b[0m\n\u001b[0m    ^\u001b[0m\n\u001b[0;31mSyntaxError\u001b[0m\u001b[0;31m:\u001b[0m invalid character '⚠' (U+26A0)\n"
     ]
    }
   ],
   "source": [
    "# OI Analysis & Max Pain\n",
    "\n",
    "This notebook:\n",
    "- Fetches option chain data from ICICI Breeze API\n",
    "- Calculates PCR (OI & Volume) and Max Pain\n",
    "- Logs results to Excel\n",
    "- Visualizes OI distribution and total loss curves\n",
    "\n",
    "Note: Requires valid Breeze API credentials in `scripts/breeze_client.py` (local only).\n"
   ]
  },
  {
   "cell_type": "code",
   "execution_count": 2,
   "id": "1f699c5b",
   "metadata": {},
   "outputs": [],
   "source": [
    "import pandas as pd\n",
    "import ipywidgets as widgets\n",
    "from IPython.display import display, clear_output\n",
    "from datetime import datetime\n",
    "import sys, os\n",
    "\n",
    "# Add project root so we can import scripts/\n",
    "sys.path.append(os.path.abspath(\"..\"))\n",
    "\n",
    "# Import reusable functions from scripts/oi_analysis.py\n",
    "from scripts.oi_analysis import (\n",
    "    fetch_option_chain_data,\n",
    "    calculate_pcr_max_pain,\n",
    "    append_to_excel,\n",
    "    plot_open_interest,\n",
    "    plot_total_loss,\n",
    "    fetch_underlying_ltp\n",
    ")\n"
   ]
  },
  {
   "cell_type": "code",
   "execution_count": 3,
   "id": "f1af8642",
   "metadata": {},
   "outputs": [],
   "source": [
    "def interactive_option_chain():\n",
    "    stock_input = widgets.Text(\n",
    "        description=\"Stock Code:\",\n",
    "        placeholder=\"Enter stock name (e.g., NIFTY, BANKNIFTY)\",\n",
    "        style={\"description_width\": \"initial\"}\n",
    "    )\n",
    "    expiry_input = widgets.DatePicker(\n",
    "        description=\"Select Expiry Date:\",\n",
    "        style={\"description_width\": \"initial\"}\n",
    "    )\n",
    "    fetch_button = widgets.Button(\n",
    "        description=\"Fetch & Visualize\",\n",
    "        button_style=\"success\"\n",
    "    )\n",
    "    output_box = widgets.Output()\n",
    "\n",
    "    def on_fetch_button_clicked(_):\n",
    "        with output_box:\n",
    "            clear_output()\n",
    "            stock_code = stock_input.value.strip().upper()\n",
    "            expiry_date = expiry_input.value\n",
    "            if not stock_code or not expiry_date:\n",
    "                print(\"⚠️ Please provide valid inputs.\")\n",
    "                return\n",
    "\n",
    "            expiry_date_iso = expiry_date.isoformat() + \"T06:00:00.000Z\"\n",
    "            data = fetch_option_chain_data(stock_code, expiry_date_iso)\n",
    "\n",
    "            if not data.empty:\n",
    "                results = calculate_pcr_max_pain(data)\n",
    "                plot_total_loss(data, stock_code)\n",
    "                now = datetime.now()\n",
    "                ltp = fetch_underlying_ltp(stock_code)\n",
    "\n",
    "                output = pd.DataFrame({\n",
    "                    \"Date\": [now.date()],\n",
    "                    \"Time\": [now.strftime(\"%H:%M:%S\")],\n",
    "                    \"PCR OI\": [results[\"PCR OI\"]],\n",
    "                    \"PCR Volume\": [results[\"PCR Volume\"]],\n",
    "                    \"Max Pain\": [results[\"Max Pain\"]],\n",
    "                    \"LTP\": [ltp]\n",
    "                })\n",
    "                display(output)\n",
    "\n",
    "                append_to_excel(output, \"data/Indicators_Log.xlsx\")\n",
    "                plot_open_interest(data, stock_code)\n",
    "            else:\n",
    "                print(\"❌ No data retrieved for the given inputs.\")\n",
    "\n",
    "    fetch_button.on_click(on_fetch_button_clicked)\n",
    "    display(widgets.VBox([stock_input, expiry_input, fetch_button, output_box]))\n"
   ]
  },
  {
   "cell_type": "code",
   "execution_count": 4,
   "id": "5c44a1ea",
   "metadata": {},
   "outputs": [
    {
     "data": {
      "application/vnd.jupyter.widget-view+json": {
       "model_id": "20dba19e118f44f4a316249d6cc42381",
       "version_major": 2,
       "version_minor": 0
      },
      "text/plain": [
       "VBox(children=(Text(value='', description='Stock Code:', placeholder='Enter stock name (e.g., NIFTY, BANKNIFTY…"
      ]
     },
     "metadata": {},
     "output_type": "display_data"
    }
   ],
   "source": [
    "interactive_option_chain()\n"
   ]
  },
  {
   "cell_type": "code",
   "execution_count": null,
   "id": "c09d2065",
   "metadata": {},
   "outputs": [],
   "source": []
  }
 ],
 "metadata": {
  "kernelspec": {
   "display_name": "Python 3 (ipykernel)",
   "language": "python",
   "name": "python3"
  },
  "language_info": {
   "codemirror_mode": {
    "name": "ipython",
    "version": 3
   },
   "file_extension": ".py",
   "mimetype": "text/x-python",
   "name": "python",
   "nbconvert_exporter": "python",
   "pygments_lexer": "ipython3",
   "version": "3.10.16"
  }
 },
 "nbformat": 4,
 "nbformat_minor": 5
}
