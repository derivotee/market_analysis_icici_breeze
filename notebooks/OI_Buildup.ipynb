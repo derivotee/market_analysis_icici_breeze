{
 "cells": [
  {
   "cell_type": "code",
   "execution_count": 2,
   "id": "2fe39668",
   "metadata": {},
   "outputs": [],
   "source": [
    "import sys, os\n",
    "\n",
    "# Point this to your project root folder\n",
    "PROJECT_ROOT = \"/Users/satyavarapu/Documents/ProjectGithub/market_analysis_icici_breeze\"\n",
    "sys.path.append(PROJECT_ROOT)\n",
    "\n",
    "from scripts.oi_buildup import download_snapshot\n"
   ]
  },
  {
   "cell_type": "code",
   "execution_count": 5,
   "id": "581eb1b8",
   "metadata": {},
   "outputs": [
    {
     "name": "stdout",
     "output_type": "stream",
     "text": [
      "✅ Nifty Spot fetched from Breeze: 24715.05\n",
      "📌 ATM Strike set to: 24700\n",
      "✅ Spot saved: /Users/satyavarapu/Documents/ProjectGithub/market_analysis_icici_breeze/data/fno/Nifty_2025-09-03.csv (103 rows)\n",
      "✅ Spot saved: /Users/satyavarapu/Documents/ProjectGithub/market_analysis_icici_breeze/data/fno/Nifty_2025-09-02.csv (103 rows)\n",
      "✅ Options saved: /Users/satyavarapu/Documents/ProjectGithub/market_analysis_icici_breeze/data/fno/Nifty_Options_2025-09-03.csv (530 rows)\n",
      "✅ Options saved: /Users/satyavarapu/Documents/ProjectGithub/market_analysis_icici_breeze/data/fno/Nifty_Options_2025-09-02.csv (530 rows)\n",
      "📊 Download complete at 2025-09-04 00:40:49\n",
      "\n",
      "=== Intraday Trends ===\n",
      "           datetime  oi_change  price_change          trend\n",
      "2025-09-03 09:45:00   565500.0        -57.70  Short Buildup\n",
      "2025-09-03 10:15:00   351300.0         50.00   Long Buildup\n",
      "2025-09-03 10:45:00   205125.0        -43.95  Short Buildup\n",
      "2025-09-03 11:15:00   205275.0         13.40   Long Buildup\n",
      "2025-09-03 11:45:00    40425.0         11.40   Long Buildup\n",
      "2025-09-03 12:15:00    35400.0         46.20   Long Buildup\n",
      "2025-09-03 12:45:00    70725.0         -2.70  Short Buildup\n",
      "2025-09-03 13:15:00   -96450.0        -22.45 Long Unwinding\n",
      "2025-09-03 13:45:00    22725.0         26.40   Long Buildup\n",
      "2025-09-03 14:15:00     6825.0         28.15   Long Buildup\n",
      "2025-09-03 14:45:00  -246675.0          2.35 Short Covering\n",
      "2025-09-03 15:15:00  -303225.0         52.80 Short Covering\n",
      "\n",
      "=== 3-Hour Interval Trends ===\n",
      "           datetime  oi_change  price_change          trend\n",
      "2025-09-03 14:45:00  -207450.0         77.95 Short Covering\n",
      "2025-09-03 15:15:00  -303225.0         52.80 Short Covering\n",
      "\n",
      "=== Session Summary ===\n",
      "Run Time: 2025-09-04 00:40:49\n",
      "Final Trend: Long Buildup\n",
      "Net OI Change: 856950\n",
      "Net OI % Change: 1.49\n",
      "Intraday Change (pts): 104.8\n",
      "Intraday % Change: 0.43\n",
      "Daily Net Change (pts): 135.45\n",
      "Daily Net % Change: 0.55\n"
     ]
    }
   ],
   "source": [
    "from scripts.oi_buildup import download_snapshot\n",
    "\n",
    "date_of_snapshot = \"2025-09-03\"\n",
    "expiry_date = \"2025-09-30\"\n",
    "\n",
    "download_snapshot(date_of_snapshot, expiry_date)\n"
   ]
  },
  {
   "cell_type": "code",
   "execution_count": null,
   "id": "95bd868b",
   "metadata": {},
   "outputs": [],
   "source": []
  }
 ],
 "metadata": {
  "kernelspec": {
   "display_name": "Python 3 (ipykernel)",
   "language": "python",
   "name": "python3"
  },
  "language_info": {
   "codemirror_mode": {
    "name": "ipython",
    "version": 3
   },
   "file_extension": ".py",
   "mimetype": "text/x-python",
   "name": "python",
   "nbconvert_exporter": "python",
   "pygments_lexer": "ipython3",
   "version": "3.10.16"
  }
 },
 "nbformat": 4,
 "nbformat_minor": 5
}
